{
  "nbformat": 4,
  "nbformat_minor": 0,
  "metadata": {
    "colab": {
      "name": "Maureen_Hypothyroid_Prediction.ipynb",
      "provenance": [],
      "authorship_tag": "ABX9TyM8gwjn/5QGTUd87osthR5R",
      "include_colab_link": true
    },
    "kernelspec": {
      "name": "python3",
      "display_name": "Python 3"
    },
    "language_info": {
      "name": "python"
    }
  },
  "cells": [
    {
      "cell_type": "markdown",
      "metadata": {
        "id": "view-in-github",
        "colab_type": "text"
      },
      "source": [
        "<a href=\"https://colab.research.google.com/github/Maureenchepkirui/Hypothyrodism_Prediction/blob/main/Maureen_Hypothyroid_Prediction.ipynb\" target=\"_parent\"><img src=\"https://colab.research.google.com/assets/colab-badge.svg\" alt=\"Open In Colab\"/></a>"
      ]
    },
    {
      "cell_type": "code",
      "execution_count": null,
      "metadata": {
        "id": "slWsQ4txtdlO"
      },
      "outputs": [],
      "source": [
        ""
      ]
    }
  ]
}